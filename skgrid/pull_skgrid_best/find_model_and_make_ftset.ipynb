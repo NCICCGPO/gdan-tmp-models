{
 "cells": [
  {
   "cell_type": "markdown",
   "id": "9f5cdae2",
   "metadata": {},
   "source": [
    "# Find and create feature list "
   ]
  },
  {
   "cell_type": "code",
   "execution_count": 1,
   "id": "33803d1e",
   "metadata": {},
   "outputs": [],
   "source": [
    "import pandas as pd"
   ]
  },
  {
   "cell_type": "code",
   "execution_count": 2,
   "id": "8a6da4cc",
   "metadata": {},
   "outputs": [],
   "source": [
    "# Open large combined feature matrix\n",
    "ft_df = pd.read_csv('../../../../08_manuscript/featureSetML_TCGA/src/classifier_metrics_20210821/collected_features_matrix.tsv', sep='\\t', low_memory=False)"
   ]
  },
  {
   "cell_type": "code",
   "execution_count": 4,
   "id": "8b9a57ff",
   "metadata": {},
   "outputs": [],
   "source": [
    "##########\n",
    "cancer = 'BRCA'\n",
    "# platform = 'OVERALL'\n",
    "##########"
   ]
  },
  {
   "cell_type": "code",
   "execution_count": 6,
   "id": "386e9dea",
   "metadata": {},
   "outputs": [
    {
     "name": "stdout",
     "output_type": "stream",
     "text": [
      "OVERALL\n",
      "RandomForest(criterion=entropy,n_estimators=200)\n",
      "skgrid_BRCA_fbedeBIC_combined\n",
      "CNVR\n",
      "LogisticRegression(C=1.0,max_iter=500,solver=lbfgs)\n",
      "skgrid_BRCA_fbedeBIC_perplatformCNVR\n",
      "GEXP\n",
      "RandomForest(criterion=entropy,n_estimators=200)\n",
      "skgrid_BRCA_fbedeBIC_perplatformGEXP\n",
      "METH\n",
      "RandomForest(criterion=gini,n_estimators=200)\n",
      "skgrid_BRCA_rfe15_perplatformMETH\n",
      "MIR\n",
      "LogisticRegression(C=100,max_iter=500,solver=newton-cg)\n",
      "skgrid_BRCA_fbedeBIC_perplatformMIR\n",
      "MUTA\n",
      "BernoulliNB(alpha=0.3)\n",
      "skgrid_BRCA_fbedeBIC_perplatformMUTA\n"
     ]
    }
   ],
   "source": [
    "# Find top model name and associated ftset name\n",
    "for platform in ['OVERALL','CNVR', 'GEXP', 'METH', 'MIR', 'MUTA']:\n",
    "    df = pd.read_csv('./skgrid_best_models_{}_2022-04-05_v1.tsv'.format(platform), sep='\\t')\n",
    "    print(platform)\n",
    "    top = df[df['Cohort']==cancer].reset_index()\n",
    "    model = top['Model'][0]\n",
    "    ftid = top['Features'][0]\n",
    "\n",
    "    print(model)\n",
    "    print(ftid)\n",
    "    \n",
    "    # Save ft names as a file\n",
    "    output = '../data/src/training_data/{}_{}_featurelist.txt'.format(cancer, platform)\n",
    "    with open(output, 'w') as out:\n",
    "        s1 = ft_df[['featureID', ftid+'_'+cancer]]\n",
    "        s1 = s1.iloc[3:,]\n",
    "        s1 = s1.loc[(s1=='1').any(axis=1)]\n",
    "\n",
    "        for a in s1['featureID']:\n",
    "            out.write(a +'\\n')"
   ]
  },
  {
   "cell_type": "code",
   "execution_count": null,
   "id": "654ad8c1",
   "metadata": {},
   "outputs": [],
   "source": []
  }
 ],
 "metadata": {
  "kernelspec": {
   "display_name": "Python 3 (ipykernel)",
   "language": "python",
   "name": "python3"
  },
  "language_info": {
   "codemirror_mode": {
    "name": "ipython",
    "version": 3
   },
   "file_extension": ".py",
   "mimetype": "text/x-python",
   "name": "python",
   "nbconvert_exporter": "python",
   "pygments_lexer": "ipython3",
   "version": "3.9.7"
  }
 },
 "nbformat": 4,
 "nbformat_minor": 5
}
