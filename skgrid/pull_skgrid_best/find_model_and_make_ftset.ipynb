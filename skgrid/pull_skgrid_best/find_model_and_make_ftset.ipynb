{
 "cells": [
  {
   "cell_type": "markdown",
   "id": "9f5cdae2",
   "metadata": {},
   "source": [
    "# Find and create feature list "
   ]
  },
  {
   "cell_type": "code",
   "execution_count": 1,
   "id": "f88dcafc",
   "metadata": {},
   "outputs": [],
   "source": [
    "import pandas as pd"
   ]
  },
  {
   "cell_type": "code",
   "execution_count": 2,
   "id": "2534ea04",
   "metadata": {},
   "outputs": [],
   "source": [
    "# Open large combined feature matrix\n",
    "ft_df = pd.read_csv('../../../../08_manuscript/featureSetML_TCGA/src/classifier_metrics_20210821/collected_features_matrix.tsv', sep='\\t', low_memory=False)"
   ]
  },
  {
   "cell_type": "code",
   "execution_count": 4,
   "id": "8b9a57ff",
   "metadata": {},
   "outputs": [],
   "source": [
    "##########\n",
    "cancer = 'BRCA'\n",
    "# platform = 'OVERALL'\n",
    "##########"
   ]
  },
  {
   "cell_type": "code",
   "execution_count": 5,
   "id": "386e9dea",
   "metadata": {},
   "outputs": [
    {
     "name": "stdout",
     "output_type": "stream",
     "text": [
      "OVERALL\n",
      "RandomForest(criterion=entropy,n_estimators=200)\n",
      "skgrid_BRCA_fbedeBIC_combined\n"
     ]
    },
    {
     "ename": "FileNotFoundError",
     "evalue": "[Errno 2] No such file or directory: 'data/src/training_data/BRCA_OVERALL_featurelist.txt'",
     "output_type": "error",
     "traceback": [
      "\u001b[0;31m---------------------------------------------------------------------------\u001b[0m",
      "\u001b[0;31mFileNotFoundError\u001b[0m                         Traceback (most recent call last)",
      "\u001b[0;32m/var/folders/2w/r2r2_kxs18s_r_wc6_qd579cbl0b09/T/ipykernel_20812/173083744.py\u001b[0m in \u001b[0;36m<module>\u001b[0;34m\u001b[0m\n\u001b[1;32m     12\u001b[0m     \u001b[0;31m# Save ft names as a file\u001b[0m\u001b[0;34m\u001b[0m\u001b[0;34m\u001b[0m\u001b[0m\n\u001b[1;32m     13\u001b[0m     \u001b[0moutput\u001b[0m \u001b[0;34m=\u001b[0m \u001b[0;34m'data/src/training_data/{}_{}_featurelist.txt'\u001b[0m\u001b[0;34m.\u001b[0m\u001b[0mformat\u001b[0m\u001b[0;34m(\u001b[0m\u001b[0mcancer\u001b[0m\u001b[0;34m,\u001b[0m \u001b[0mplatform\u001b[0m\u001b[0;34m)\u001b[0m\u001b[0;34m\u001b[0m\u001b[0;34m\u001b[0m\u001b[0m\n\u001b[0;32m---> 14\u001b[0;31m     \u001b[0;32mwith\u001b[0m \u001b[0mopen\u001b[0m\u001b[0;34m(\u001b[0m\u001b[0moutput\u001b[0m\u001b[0;34m,\u001b[0m \u001b[0;34m'w'\u001b[0m\u001b[0;34m)\u001b[0m \u001b[0;32mas\u001b[0m \u001b[0mout\u001b[0m\u001b[0;34m:\u001b[0m\u001b[0;34m\u001b[0m\u001b[0;34m\u001b[0m\u001b[0m\n\u001b[0m\u001b[1;32m     15\u001b[0m         \u001b[0ms1\u001b[0m \u001b[0;34m=\u001b[0m \u001b[0mft_df\u001b[0m\u001b[0;34m[\u001b[0m\u001b[0;34m[\u001b[0m\u001b[0;34m'featureID'\u001b[0m\u001b[0;34m,\u001b[0m \u001b[0mftid\u001b[0m\u001b[0;34m+\u001b[0m\u001b[0;34m'_'\u001b[0m\u001b[0;34m+\u001b[0m\u001b[0mcancer\u001b[0m\u001b[0;34m]\u001b[0m\u001b[0;34m]\u001b[0m\u001b[0;34m\u001b[0m\u001b[0;34m\u001b[0m\u001b[0m\n\u001b[1;32m     16\u001b[0m         \u001b[0ms1\u001b[0m \u001b[0;34m=\u001b[0m \u001b[0ms1\u001b[0m\u001b[0;34m.\u001b[0m\u001b[0miloc\u001b[0m\u001b[0;34m[\u001b[0m\u001b[0;36m3\u001b[0m\u001b[0;34m:\u001b[0m\u001b[0;34m,\u001b[0m\u001b[0;34m]\u001b[0m\u001b[0;34m\u001b[0m\u001b[0;34m\u001b[0m\u001b[0m\n",
      "\u001b[0;31mFileNotFoundError\u001b[0m: [Errno 2] No such file or directory: 'data/src/training_data/BRCA_OVERALL_featurelist.txt'"
     ]
    }
   ],
   "source": [
    "# Find top model name and associated ftset name\n",
    "for platform in ['OVERALL','CNVR', 'GEXP', 'METH', 'MIR', 'MUTA']:\n",
    "    df = pd.read_csv('./skgrid_best_models_{}_2022-04-05_v1.tsv'.format(platform), sep='\\t')\n",
    "    print(platform)\n",
    "    top = df[df['Cohort']==cancer].reset_index()\n",
    "    model = top['Model'][0]\n",
    "    ftid = top['Features'][0]\n",
    "\n",
    "    print(model)\n",
    "    print(ftid)\n",
    "    \n",
    "    # Save ft names as a file\n",
    "    output = 'data/src/training_data/{}_{}_featurelist.txt'.format(cancer, platform)\n",
    "    with open(output, 'w') as out:\n",
    "        s1 = ft_df[['featureID', ftid+'_'+cancer]]\n",
    "        s1 = s1.iloc[3:,]\n",
    "        s1 = s1.loc[(s1=='1').any(axis=1)]\n",
    "\n",
    "        for a in s1['featureID']:\n",
    "            out.write(a +'\\n')"
   ]
  },
  {
   "cell_type": "code",
   "execution_count": null,
   "id": "c35baf89",
   "metadata": {},
   "outputs": [],
   "source": []
  }
 ],
 "metadata": {
  "kernelspec": {
   "display_name": "Python 3 (ipykernel)",
   "language": "python",
   "name": "python3"
  },
  "language_info": {
   "codemirror_mode": {
    "name": "ipython",
    "version": 3
   },
   "file_extension": ".py",
   "mimetype": "text/x-python",
   "name": "python",
   "nbconvert_exporter": "python",
   "pygments_lexer": "ipython3",
   "version": "3.9.7"
  }
 },
 "nbformat": 4,
 "nbformat_minor": 5
}
