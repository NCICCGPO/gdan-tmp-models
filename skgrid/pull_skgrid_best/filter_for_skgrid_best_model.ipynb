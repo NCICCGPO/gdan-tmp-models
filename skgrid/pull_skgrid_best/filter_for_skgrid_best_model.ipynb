{
 "cells": [
  {
   "cell_type": "code",
   "execution_count": null,
   "id": "b7123486-e13c-4030-928b-a942ebbab8f1",
   "metadata": {},
   "outputs": [],
   "source": [
    "# Extract best SK_Grid model for both:\n",
    "    # All data types\n",
    "    # Best single platform"
   ]
  },
  {
   "cell_type": "code",
   "execution_count": null,
   "id": "aa32f419",
   "metadata": {},
   "outputs": [],
   "source": [
    "import pandas as pd"
   ]
  },
  {
   "cell_type": "code",
   "execution_count": null,
   "id": "c4073dc2-b11a-445a-98bf-049b52277c3a",
   "metadata": {},
   "outputs": [],
   "source": [
    "path_to_big_matrix = '../../../../08_manuscript/featureSetML_TCGA/src/classifier_metrics_20210821/big_results_matrix.tsv'"
   ]
  },
  {
   "cell_type": "code",
   "execution_count": null,
   "id": "5b7645af-8a2a-43a3-a330-b63d01c36d32",
   "metadata": {},
   "outputs": [],
   "source": [
    "metrics = pd.read_csv( # about 20 seconds\n",
    "    path_to_big_matrix,\n",
    "    sep='\\t'\n",
    ")"
   ]
  },
  {
   "cell_type": "code",
   "execution_count": null,
   "id": "2b4c87b2-2bf0-4b2c-89a0-d7d7b8a785d1",
   "metadata": {},
   "outputs": [],
   "source": [
    "metrics = metrics[metrics.model.str.contains('skgrid')]"
   ]
  },
  {
   "cell_type": "code",
   "execution_count": null,
   "id": "40ccc029-2784-4234-b917-9867633f92f9",
   "metadata": {},
   "outputs": [],
   "source": [
    "metrics = metrics[metrics.performance_metric.str.contains('overall_weighted_f1')]"
   ]
  },
  {
   "cell_type": "markdown",
   "id": "b2bce6b9",
   "metadata": {},
   "source": [
    "# Best model overall "
   ]
  },
  {
   "cell_type": "code",
   "execution_count": null,
   "id": "ebbc4a75-76db-456f-81e4-33adfbf83c77",
   "metadata": {},
   "outputs": [],
   "source": [
    "store_dict_26_by_3 = {'Cohort':[], 'Model':[], 'Features':[]}\n",
    "for c in metrics.cohort.unique():\n",
    "    cFrame = metrics[metrics.cohort == c].copy()\n",
    "    cFrame.reset_index(inplace=True,drop = True)\n",
    "    cFrame.sort_values(['Mean', 'Std'], ascending=[False, True],\n",
    "                      inplace = True)\n",
    "    cFrame.reset_index(inplace=True,drop = True)\n",
    "    best_cohort_model = cFrame.loc[0,'model']\n",
    "    features = cFrame.loc[0,'featureID']\n",
    "    store_dict_26_by_3['Cohort'].append(c)\n",
    "    store_dict_26_by_3['Model'].append(best_cohort_model)\n",
    "    store_dict_26_by_3['Features'].append(features)\n",
    "bestSK = pd.DataFrame(data = store_dict_26_by_3, index = list(range(0,26)))"
   ]
  },
  {
   "cell_type": "code",
   "execution_count": null,
   "id": "59fc9640-30c8-4687-9a84-2594451f5b57",
   "metadata": {},
   "outputs": [],
   "source": [
    "# Fix the model names (optional)\n",
    "formatted_models = bestSK.copy()\n",
    "for i, model in enumerate(bestSK.Model):\n",
    "    clf = model.split('|')[0].split('_', 1)[1]\n",
    "    formatted_models.iloc[i, 1] = clf"
   ]
  },
  {
   "cell_type": "code",
   "execution_count": null,
   "id": "55249d8e-7856-4bb2-9669-1b9834f2a1db",
   "metadata": {},
   "outputs": [],
   "source": [
    "# Remove trailing cohort tag from feature set name\n",
    "formatted_models_feature_sets = formatted_models.copy()\n",
    "for i, raw_feat_name in enumerate(formatted_models_feature_sets.Features):\n",
    "    feature_set = raw_feat_name.rsplit('_', 1)[0]\n",
    "    formatted_models_feature_sets.iloc[i, 2] = feature_set"
   ]
  },
  {
   "cell_type": "code",
   "execution_count": null,
   "id": "95494943-b183-4157-8f15-2af2ebf2b22a",
   "metadata": {},
   "outputs": [],
   "source": [
    "formatted_models_feature_sets.to_csv(\n",
    "    'skgrid_best_models_overall_2022-04-05_v1.tsv',\n",
    "    sep = '\\t', index = False)"
   ]
  },
  {
   "cell_type": "markdown",
   "id": "aea254cc",
   "metadata": {},
   "source": [
    "# Best per data platform"
   ]
  },
  {
   "cell_type": "code",
   "execution_count": null,
   "id": "4a11b979-cda4-4d9f-89f9-06b2a8ade4c4",
   "metadata": {},
   "outputs": [],
   "source": [
    "# Just one platform; from over-written metrics objects"
   ]
  },
  {
   "cell_type": "code",
   "execution_count": null,
   "id": "80e1e9af-97ff-4e49-896c-f0611105bb07",
   "metadata": {
    "scrolled": true
   },
   "outputs": [],
   "source": [
    "for input_plat in ['CNVR', 'GEXP', 'METH', 'MIR', 'MUTA']:\n",
    "    print('working on {}'.format(input_plat))\n",
    "    metrics_plat = metrics[metrics.model.str.contains(input_plat)].copy()\n",
    "\n",
    "    store_dict_26_by_3 = {'Cohort':[], 'Model':[], 'Features':[]}\n",
    "    for c in metrics_plat.cohort.unique():\n",
    "        cFrame = metrics_plat[metrics_plat.cohort == c].copy()\n",
    "        cFrame.reset_index(inplace=True,drop = True)\n",
    "\n",
    "        cFrame.sort_values(['Mean', 'Std'], ascending=[False, True],\n",
    "                          inplace = True)\n",
    "\n",
    "        cFrame.reset_index(inplace=True,drop = True)\n",
    "        best_cohort_model = cFrame.loc[0,'model']\n",
    "        features = cFrame.loc[0,'featureID']\n",
    "        store_dict_26_by_3['Cohort'].append(c)\n",
    "        store_dict_26_by_3['Model'].append(best_cohort_model)\n",
    "        store_dict_26_by_3['Features'].append(features)\n",
    "\n",
    "    # Some cancer cohorts weren't ran for all 5 single platform types\n",
    "    n_cancers = len(store_dict_26_by_3['Cohort'])\n",
    "    if n_cancers != 26:\n",
    "        print('{} only had {} out of 26 cancer cohorts'.format(input_plat, n_cancers))\n",
    "    bestSKplat = pd.DataFrame(data = store_dict_26_by_3, index = list(range(0,n_cancers)))\n",
    "\n",
    "\n",
    "\n",
    "\n",
    "    # Fix the model names; remonve leading cohort (optional)\n",
    "    formatted_models_plat = bestSKplat.copy()\n",
    "    for i, model in enumerate(bestSKplat.Model):\n",
    "        clf = model.split('|')[0].split('_', 1)[1]\n",
    "        formatted_models_plat.iloc[i, 1] = clf\n",
    "\n",
    "\n",
    "\n",
    "    # Remove trailing cohort tag from feature set name (optional)\n",
    "    formatted_models_feature_sets_plat = formatted_models_plat.copy()\n",
    "    for i, raw_feat_name in enumerate(formatted_models_feature_sets_plat.Features):\n",
    "        feature_set = raw_feat_name.rsplit('_', 1)[0]\n",
    "        formatted_models_feature_sets_plat.iloc[i, 2] = feature_set\n",
    "\n",
    "\n",
    "    # Save\n",
    "    formatted_models_feature_sets_plat.to_csv(\n",
    "        'skgrid_best_models_{}_2022-04-05_v1.tsv'.format(input_plat),\n",
    "        sep = '\\t', index = False)"
   ]
  }
 ],
 "metadata": {
  "kernelspec": {
   "display_name": "Python 3 (ipykernel)",
   "language": "python",
   "name": "python3"
  },
  "language_info": {
   "codemirror_mode": {
    "name": "ipython",
    "version": 3
   },
   "file_extension": ".py",
   "mimetype": "text/x-python",
   "name": "python",
   "nbconvert_exporter": "python",
   "pygments_lexer": "ipython3",
   "version": "3.9.7"
  }
 },
 "nbformat": 4,
 "nbformat_minor": 5
}
